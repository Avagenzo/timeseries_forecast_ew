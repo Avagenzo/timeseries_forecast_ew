{
 "cells": [
  {
   "cell_type": "code",
   "execution_count": 1,
   "metadata": {},
   "outputs": [],
   "source": [
    "import pandas as pd\n",
    "import datetime \n",
    "import seaborn as sns\n",
    "import matplotlib.pyplot as plt\n",
    "import numpy as np\n",
    "import joblib as joblib"
   ]
  },
  {
   "cell_type": "code",
   "execution_count": 2,
   "metadata": {},
   "outputs": [],
   "source": [
    "model = joblib.load('model.pkl')"
   ]
  },
  {
   "cell_type": "code",
   "execution_count": 3,
   "metadata": {},
   "outputs": [
    {
     "data": {
      "text/plain": [
       "'2019-10-29-17'"
      ]
     },
     "execution_count": 3,
     "metadata": {},
     "output_type": "execute_result"
    }
   ],
   "source": [
    "current_date = datetime.datetime.today().strftime('%Y-%m-%d-%H')\n",
    "current_date"
   ]
  },
  {
   "cell_type": "code",
   "execution_count": 4,
   "metadata": {},
   "outputs": [],
   "source": [
    "date_str3 = '2019-01-05 05'\n",
    "date_dt3 = datetime.datetime.strptime(date_str3, '%Y-%m-%d %H')\n",
    "\n",
    "remaining_hour = date_dt3.hour\n",
    "remaining_hour = 24 - remaining_hour - 1\n",
    "\n",
    "af2_date = date_dt3 + datetime.timedelta(hours=remaining_hour, minutes=0, seconds=0)\n",
    "af2_date = af2_date.strftime('%Y-%m-%d-%H')\n",
    "days = pd.date_range(start=date_str3, end=af2_date, freq='H')"
   ]
  },
  {
   "cell_type": "code",
   "execution_count": 5,
   "metadata": {},
   "outputs": [],
   "source": [
    "# remaining_hour = datetime.datetime.today().hour\n",
    "# remaining_hour = 24 - remaining_hour - 1\n",
    "\n",
    "# af2_date = datetime.datetime.today() + datetime.timedelta(hours=remaining_hour, minutes=0, seconds=0)\n",
    "# af2_date = af2_date.strftime('%Y-%m-%d-%H')\n",
    "# days = pd.date_range(start=current_date, end=af2_date, freq='H')"
   ]
  },
  {
   "cell_type": "code",
   "execution_count": 6,
   "metadata": {},
   "outputs": [
    {
     "data": {
      "text/html": [
       "<div>\n",
       "<style scoped>\n",
       "    .dataframe tbody tr th:only-of-type {\n",
       "        vertical-align: middle;\n",
       "    }\n",
       "\n",
       "    .dataframe tbody tr th {\n",
       "        vertical-align: top;\n",
       "    }\n",
       "\n",
       "    .dataframe thead th {\n",
       "        text-align: right;\n",
       "    }\n",
       "</style>\n",
       "<table border=\"1\" class=\"dataframe\">\n",
       "  <thead>\n",
       "    <tr style=\"text-align: right;\">\n",
       "      <th></th>\n",
       "      <th>hour</th>\n",
       "      <th>weekday</th>\n",
       "    </tr>\n",
       "  </thead>\n",
       "  <tbody>\n",
       "    <tr>\n",
       "      <td>0</td>\n",
       "      <td>5</td>\n",
       "      <td>5</td>\n",
       "    </tr>\n",
       "    <tr>\n",
       "      <td>1</td>\n",
       "      <td>6</td>\n",
       "      <td>5</td>\n",
       "    </tr>\n",
       "    <tr>\n",
       "      <td>2</td>\n",
       "      <td>7</td>\n",
       "      <td>5</td>\n",
       "    </tr>\n",
       "    <tr>\n",
       "      <td>3</td>\n",
       "      <td>8</td>\n",
       "      <td>5</td>\n",
       "    </tr>\n",
       "    <tr>\n",
       "      <td>4</td>\n",
       "      <td>9</td>\n",
       "      <td>5</td>\n",
       "    </tr>\n",
       "    <tr>\n",
       "      <td>5</td>\n",
       "      <td>10</td>\n",
       "      <td>5</td>\n",
       "    </tr>\n",
       "    <tr>\n",
       "      <td>6</td>\n",
       "      <td>11</td>\n",
       "      <td>5</td>\n",
       "    </tr>\n",
       "    <tr>\n",
       "      <td>7</td>\n",
       "      <td>12</td>\n",
       "      <td>5</td>\n",
       "    </tr>\n",
       "    <tr>\n",
       "      <td>8</td>\n",
       "      <td>13</td>\n",
       "      <td>5</td>\n",
       "    </tr>\n",
       "    <tr>\n",
       "      <td>9</td>\n",
       "      <td>14</td>\n",
       "      <td>5</td>\n",
       "    </tr>\n",
       "    <tr>\n",
       "      <td>10</td>\n",
       "      <td>15</td>\n",
       "      <td>5</td>\n",
       "    </tr>\n",
       "    <tr>\n",
       "      <td>11</td>\n",
       "      <td>16</td>\n",
       "      <td>5</td>\n",
       "    </tr>\n",
       "    <tr>\n",
       "      <td>12</td>\n",
       "      <td>17</td>\n",
       "      <td>5</td>\n",
       "    </tr>\n",
       "    <tr>\n",
       "      <td>13</td>\n",
       "      <td>18</td>\n",
       "      <td>5</td>\n",
       "    </tr>\n",
       "    <tr>\n",
       "      <td>14</td>\n",
       "      <td>19</td>\n",
       "      <td>5</td>\n",
       "    </tr>\n",
       "    <tr>\n",
       "      <td>15</td>\n",
       "      <td>20</td>\n",
       "      <td>5</td>\n",
       "    </tr>\n",
       "    <tr>\n",
       "      <td>16</td>\n",
       "      <td>21</td>\n",
       "      <td>5</td>\n",
       "    </tr>\n",
       "    <tr>\n",
       "      <td>17</td>\n",
       "      <td>22</td>\n",
       "      <td>5</td>\n",
       "    </tr>\n",
       "    <tr>\n",
       "      <td>18</td>\n",
       "      <td>23</td>\n",
       "      <td>5</td>\n",
       "    </tr>\n",
       "  </tbody>\n",
       "</table>\n",
       "</div>"
      ],
      "text/plain": [
       "    hour  weekday\n",
       "0      5        5\n",
       "1      6        5\n",
       "2      7        5\n",
       "3      8        5\n",
       "4      9        5\n",
       "5     10        5\n",
       "6     11        5\n",
       "7     12        5\n",
       "8     13        5\n",
       "9     14        5\n",
       "10    15        5\n",
       "11    16        5\n",
       "12    17        5\n",
       "13    18        5\n",
       "14    19        5\n",
       "15    20        5\n",
       "16    21        5\n",
       "17    22        5\n",
       "18    23        5"
      ]
     },
     "execution_count": 6,
     "metadata": {},
     "output_type": "execute_result"
    }
   ],
   "source": [
    "df_af1 = pd.DataFrame({'Uhrzeit': days})\n",
    "\n",
    "df_af1['hour'] = df_af1['Uhrzeit'].dt.hour.values\n",
    "df_af1['weekday'] = df_af1['Uhrzeit'].dt.dayofweek.values\n",
    "input_df = df_af1.copy()\n",
    "del input_df['Uhrzeit']\n",
    "input_df"
   ]
  },
  {
   "cell_type": "code",
   "execution_count": 7,
   "metadata": {},
   "outputs": [],
   "source": [
    "y_load_predit = model.predict(input_df)"
   ]
  },
  {
   "cell_type": "code",
   "execution_count": 8,
   "metadata": {},
   "outputs": [],
   "source": [
    "d = {'Uhrzeit': df_af1['Uhrzeit'], 'Anzahl': y_load_predit, 'Strasse': 'Neusser Str.'}\n",
    "result = pd.DataFrame(data=d)"
   ]
  },
  {
   "cell_type": "code",
   "execution_count": 9,
   "metadata": {},
   "outputs": [],
   "source": [
    "result = result.sort_values(by=['Uhrzeit'])\n",
    "result['Anzahl'] = result['Anzahl'].apply(np.ceil)"
   ]
  },
  {
   "cell_type": "code",
   "execution_count": 10,
   "metadata": {},
   "outputs": [
    {
     "data": {
      "text/html": [
       "<div>\n",
       "<style scoped>\n",
       "    .dataframe tbody tr th:only-of-type {\n",
       "        vertical-align: middle;\n",
       "    }\n",
       "\n",
       "    .dataframe tbody tr th {\n",
       "        vertical-align: top;\n",
       "    }\n",
       "\n",
       "    .dataframe thead th {\n",
       "        text-align: right;\n",
       "    }\n",
       "</style>\n",
       "<table border=\"1\" class=\"dataframe\">\n",
       "  <thead>\n",
       "    <tr style=\"text-align: right;\">\n",
       "      <th></th>\n",
       "      <th>Uhrzeit</th>\n",
       "      <th>Anzahl</th>\n",
       "      <th>Strasse</th>\n",
       "    </tr>\n",
       "  </thead>\n",
       "  <tbody>\n",
       "    <tr>\n",
       "      <td>0</td>\n",
       "      <td>2019-01-05 05:00:00</td>\n",
       "      <td>0.0</td>\n",
       "      <td>Neusser Str.</td>\n",
       "    </tr>\n",
       "    <tr>\n",
       "      <td>1</td>\n",
       "      <td>2019-01-05 06:00:00</td>\n",
       "      <td>0.0</td>\n",
       "      <td>Neusser Str.</td>\n",
       "    </tr>\n",
       "    <tr>\n",
       "      <td>2</td>\n",
       "      <td>2019-01-05 07:00:00</td>\n",
       "      <td>1.0</td>\n",
       "      <td>Neusser Str.</td>\n",
       "    </tr>\n",
       "    <tr>\n",
       "      <td>3</td>\n",
       "      <td>2019-01-05 08:00:00</td>\n",
       "      <td>0.0</td>\n",
       "      <td>Neusser Str.</td>\n",
       "    </tr>\n",
       "    <tr>\n",
       "      <td>4</td>\n",
       "      <td>2019-01-05 09:00:00</td>\n",
       "      <td>1.0</td>\n",
       "      <td>Neusser Str.</td>\n",
       "    </tr>\n",
       "    <tr>\n",
       "      <td>5</td>\n",
       "      <td>2019-01-05 10:00:00</td>\n",
       "      <td>4.0</td>\n",
       "      <td>Neusser Str.</td>\n",
       "    </tr>\n",
       "    <tr>\n",
       "      <td>6</td>\n",
       "      <td>2019-01-05 11:00:00</td>\n",
       "      <td>23.0</td>\n",
       "      <td>Neusser Str.</td>\n",
       "    </tr>\n",
       "    <tr>\n",
       "      <td>7</td>\n",
       "      <td>2019-01-05 12:00:00</td>\n",
       "      <td>9.0</td>\n",
       "      <td>Neusser Str.</td>\n",
       "    </tr>\n",
       "    <tr>\n",
       "      <td>8</td>\n",
       "      <td>2019-01-05 13:00:00</td>\n",
       "      <td>7.0</td>\n",
       "      <td>Neusser Str.</td>\n",
       "    </tr>\n",
       "    <tr>\n",
       "      <td>9</td>\n",
       "      <td>2019-01-05 14:00:00</td>\n",
       "      <td>1.0</td>\n",
       "      <td>Neusser Str.</td>\n",
       "    </tr>\n",
       "    <tr>\n",
       "      <td>10</td>\n",
       "      <td>2019-01-05 15:00:00</td>\n",
       "      <td>1.0</td>\n",
       "      <td>Neusser Str.</td>\n",
       "    </tr>\n",
       "    <tr>\n",
       "      <td>11</td>\n",
       "      <td>2019-01-05 16:00:00</td>\n",
       "      <td>0.0</td>\n",
       "      <td>Neusser Str.</td>\n",
       "    </tr>\n",
       "    <tr>\n",
       "      <td>12</td>\n",
       "      <td>2019-01-05 17:00:00</td>\n",
       "      <td>1.0</td>\n",
       "      <td>Neusser Str.</td>\n",
       "    </tr>\n",
       "    <tr>\n",
       "      <td>13</td>\n",
       "      <td>2019-01-05 18:00:00</td>\n",
       "      <td>0.0</td>\n",
       "      <td>Neusser Str.</td>\n",
       "    </tr>\n",
       "    <tr>\n",
       "      <td>14</td>\n",
       "      <td>2019-01-05 19:00:00</td>\n",
       "      <td>1.0</td>\n",
       "      <td>Neusser Str.</td>\n",
       "    </tr>\n",
       "    <tr>\n",
       "      <td>15</td>\n",
       "      <td>2019-01-05 20:00:00</td>\n",
       "      <td>0.0</td>\n",
       "      <td>Neusser Str.</td>\n",
       "    </tr>\n",
       "    <tr>\n",
       "      <td>16</td>\n",
       "      <td>2019-01-05 21:00:00</td>\n",
       "      <td>0.0</td>\n",
       "      <td>Neusser Str.</td>\n",
       "    </tr>\n",
       "    <tr>\n",
       "      <td>17</td>\n",
       "      <td>2019-01-05 22:00:00</td>\n",
       "      <td>0.0</td>\n",
       "      <td>Neusser Str.</td>\n",
       "    </tr>\n",
       "    <tr>\n",
       "      <td>18</td>\n",
       "      <td>2019-01-05 23:00:00</td>\n",
       "      <td>0.0</td>\n",
       "      <td>Neusser Str.</td>\n",
       "    </tr>\n",
       "  </tbody>\n",
       "</table>\n",
       "</div>"
      ],
      "text/plain": [
       "               Uhrzeit  Anzahl       Strasse\n",
       "0  2019-01-05 05:00:00     0.0  Neusser Str.\n",
       "1  2019-01-05 06:00:00     0.0  Neusser Str.\n",
       "2  2019-01-05 07:00:00     1.0  Neusser Str.\n",
       "3  2019-01-05 08:00:00     0.0  Neusser Str.\n",
       "4  2019-01-05 09:00:00     1.0  Neusser Str.\n",
       "5  2019-01-05 10:00:00     4.0  Neusser Str.\n",
       "6  2019-01-05 11:00:00    23.0  Neusser Str.\n",
       "7  2019-01-05 12:00:00     9.0  Neusser Str.\n",
       "8  2019-01-05 13:00:00     7.0  Neusser Str.\n",
       "9  2019-01-05 14:00:00     1.0  Neusser Str.\n",
       "10 2019-01-05 15:00:00     1.0  Neusser Str.\n",
       "11 2019-01-05 16:00:00     0.0  Neusser Str.\n",
       "12 2019-01-05 17:00:00     1.0  Neusser Str.\n",
       "13 2019-01-05 18:00:00     0.0  Neusser Str.\n",
       "14 2019-01-05 19:00:00     1.0  Neusser Str.\n",
       "15 2019-01-05 20:00:00     0.0  Neusser Str.\n",
       "16 2019-01-05 21:00:00     0.0  Neusser Str.\n",
       "17 2019-01-05 22:00:00     0.0  Neusser Str.\n",
       "18 2019-01-05 23:00:00     0.0  Neusser Str."
      ]
     },
     "execution_count": 10,
     "metadata": {},
     "output_type": "execute_result"
    }
   ],
   "source": [
    "result"
   ]
  },
  {
   "cell_type": "code",
   "execution_count": 11,
   "metadata": {},
   "outputs": [
    {
     "name": "stdout",
     "output_type": "stream",
     "text": [
      "<class 'pandas.core.frame.DataFrame'>\n",
      "Int64Index: 19 entries, 0 to 18\n",
      "Data columns (total 3 columns):\n",
      "Uhrzeit    19 non-null datetime64[ns]\n",
      "Anzahl     19 non-null float64\n",
      "Strasse    19 non-null object\n",
      "dtypes: datetime64[ns](1), float64(1), object(1)\n",
      "memory usage: 608.0+ bytes\n"
     ]
    }
   ],
   "source": [
    "result.info()"
   ]
  },
  {
   "cell_type": "code",
   "execution_count": 12,
   "metadata": {},
   "outputs": [],
   "source": [
    "result['Uhrzeit'] = result['Uhrzeit'].dt.strftime('%H:%M')\n",
    "result.set_index('Uhrzeit', inplace=True)"
   ]
  },
  {
   "cell_type": "code",
   "execution_count": 14,
   "metadata": {},
   "outputs": [
    {
     "data": {
      "image/png": "[encoded data removed]",
      "text/plain": [
       "<Figure size 1440x288 with 1 Axes>"
      ]
     },
     "metadata": {
      "needs_background": "light"
     },
     "output_type": "display_data"
    }
   ],
   "source": [
    "a4_dims = (20, 4)\n",
    "fig, ax = plt.subplots( figsize=a4_dims)\n",
    "ax = sns.lineplot(x=result.index, y=\"Anzahl\", data=result)"
   ]
  }
 ],
 "metadata": {
  "kernelspec": {
   "display_name": "Python 3",
   "language": "python",
   "name": "python3"
  },
  "language_info": {
   "codemirror_mode": {
    "name": "ipython",
    "version": 3
   },
   "file_extension": ".py",
   "mimetype": "text/x-python",
   "name": "python",
   "nbconvert_exporter": "python",
   "pygments_lexer": "ipython3",
   "version": "3.7.4"
  }
 },
 "nbformat": 4,
 "nbformat_minor": 2
}
